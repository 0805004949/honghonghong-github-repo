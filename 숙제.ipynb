{
  "nbformat": 4,
  "nbformat_minor": 0,
  "metadata": {
    "colab": {
      "provenance": []
    },
    "kernelspec": {
      "name": "python3",
      "display_name": "Python 3"
    },
    "language_info": {
      "name": "python"
    }
  },
  "cells": [
    {
      "cell_type": "code",
      "source": [
        "import pandas as pd\n",
        "\n",
        "# 챗봇 클래스를 정의\n",
        "class SimpleChatBot:\n",
        "\n",
        "    def __init__(self, filepath):\n",
        "        self.data = pd.read_csv(filepath)\n",
        "\n",
        "    def lev_distance(self, trainedQ, input):\n",
        "        # 리스트에 있는 질문과 입력이 같다면 거리가 0 \n",
        "        if trainedQ == input: return 0 \n",
        "        # 각 각의 글자 길이에 따라 행렬을 만들어주기 위해 길이세기\n",
        "        trainedQ_len = len(trainedQ)  \n",
        "        input_len = len(input)\n",
        "        # 입력데이터와 리스트에있는 질문비교하기위헤\n",
        "        # 2차원 행렬만든다\n",
        "        matrix = [[] for i in range(trainedQ_len+1)] # 1차원행렬\n",
        "        # 2차원행렬\n",
        "        for i in range(trainedQ_len+1): \n",
        "            matrix[i] = [0 for j in range(input_len+1)] \n",
        "\n",
        "        # 2차원 행렬 1열에 1,2,3,n넣기 \n",
        "        for i in range(trainedQ_len+1):\n",
        "            matrix[i][0] = i\n",
        "\n",
        "        # 2차원행렬 1행에 1,2,3,n넣기  \n",
        "        for j in range(input_len+1):\n",
        "            matrix[0][j] = j\n",
        "\n",
        "        # 1부터 리스트에 있는 질문 글자수만큼 반복\n",
        "        for i in range(1, trainedQ_len+1):\n",
        "            # 질문리스트에 있는 질문 한글자 담기 \n",
        "            ac = trainedQ[i-1]\n",
        "            \n",
        "            # csv리스트에 있는 질문 한글자와 사용자가 물어본 질문 한글자한글자씩 비교 \n",
        "            for j in range(1, input_len+1):\n",
        "                # 사용자가 물어본 질문한글자 비교\n",
        "                bc = input[j-1] \n",
        "                \n",
        "                # 이때 두 글자가 같다면 cost는 0이고 다르다면 1\n",
        "                cost = 0 if (ac == bc) else 1\n",
        "\n",
        "                # 디폴트로 생성해놓은 행렬에 입력  \n",
        "                matrix[i][j] = min([\n",
        "                    matrix[i-1][j] + 1,     # 문자 제거: 위쪽에서 +1\n",
        "                    matrix[i][j-1] + 1,     # 문자 삽입: 왼쪽 수에서 +1   \n",
        "                    matrix[i-1][j-1] + cost # 문자 변경: 대각선에서 +1, 문자가 동일하면 대각선 숫자 복사(이떄 cost0이므로 값변경없음)\n",
        "                ])\n",
        "   \n",
        "        return matrix[trainedQ_len][input_len]\n",
        "\n",
        "    def find_best_answer(self, input_sentence):\n",
        "        # 사용자가 질문하면 csv['Q']열에 있는 질문리스트와 lev거리 비교\n",
        "        self.data['distance'] = self.data['Q'].apply(self.lev_distance, input=input_sentence)\n",
        "        # 이때 가장 distance가 작은 리스트의 첫번째 값을 답으로 삼는다\n",
        "        answer = self.data.loc[self.data['distance'] == self.data['distance'].min()]['A']\n",
        "        return answer.to_list()[0]\n",
        "\n",
        "# 데이터 파일의 경로를 지정합니다.\n",
        "filepath = 'ChatbotData.csv'\n",
        "\n",
        "# 챗봇 객체를 생성합니다.\n",
        "chatbot = SimpleChatBot(filepath)\n"
      ],
      "metadata": {
        "id": "2JCZZTIe3n35"
      },
      "execution_count": 52,
      "outputs": []
    },
    {
      "cell_type": "code",
      "source": [
        "response = chatbot.find_best_answer(\"배고파\")\n",
        "print('Chatbot:', response)\n"
      ],
      "metadata": {
        "colab": {
          "base_uri": "https://localhost:8080/"
        },
        "id": "iSy3i4B-3pXL",
        "outputId": "2994541e-8b6a-4d1b-d45e-963661946da0"
      },
      "execution_count": 55,
      "outputs": [
        {
          "output_type": "stream",
          "name": "stdout",
          "text": [
            "2000    얼른 맛난 음식 드세요.\n",
            "2001       뭐 좀 챙겨드세요.\n",
            "Name: A, dtype: object\n",
            "Chatbot: 얼른 맛난 음식 드세요.\n"
          ]
        }
      ]
    },
    {
      "cell_type": "code",
      "source": [],
      "metadata": {
        "id": "46eHGrOJ7VH5"
      },
      "execution_count": null,
      "outputs": []
    }
  ]
}